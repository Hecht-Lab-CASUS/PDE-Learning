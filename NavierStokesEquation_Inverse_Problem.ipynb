{
 "cells": [
  {
   "cell_type": "markdown",
   "metadata": {},
   "source": [
    "### 2D Navier Stokes Equation\n",
    "Let $\\Omega = (-1 , 1)^2, A, C, \\omega, \\beta \\in \\mathbb{R}$:\n",
    "$$\n",
    "\\begin{cases}\n",
    "    - \\nu \\Delta u + (u \\cdot \\nabla)u + \\nabla p = f \\ in \\ \\Omega\\\\\n",
    "    \\nabla \\cdot u = 0 \\ in \\ \\Omega\\\\\n",
    "    u = g \\ on \\ \\partial \\Omega\\\\\n",
    "    \\int_\\Omega p dx = 0\n",
    "\\end{cases}\n",
    "$$"
   ]
  },
  {
   "cell_type": "markdown",
   "metadata": {},
   "source": [
    "### Ground Truth"
   ]
  },
  {
   "cell_type": "markdown",
   "metadata": {},
   "source": [
    "$$\n",
    "\\begin{cases}\n",
    "    u_1 = -sin(\\pi x) cos(\\pi y)\\\\\n",
    "    u_2 = cos(\\pi x) sin(\\pi y)\\\\\n",
    "    p = x \\exp(\\pi y)\n",
    "\\end{cases}\n",
    "$$"
   ]
  },
  {
   "cell_type": "markdown",
   "metadata": {},
   "source": [
    "thus"
   ]
  },
  {
   "cell_type": "markdown",
   "metadata": {},
   "source": [
    "$$\n",
    "- \\nu \\Delta u = 2 \\nu \\pi^2 \\begin{pmatrix} u_1 \\\\ u_2 \\end{pmatrix}\n",
    "$$"
   ]
  },
  {
   "cell_type": "markdown",
   "metadata": {},
   "source": [
    "$$\n",
    "u \\cdot \\nabla = (u_1, u_2) \\cdot (\\partial_x, \\partial_y) = u_1 \\partial_x + u_2 \\partial_y\n",
    "$$"
   ]
  },
  {
   "cell_type": "markdown",
   "metadata": {},
   "source": [
    "$$\n",
    "(u \\cdot \\nabla)u = \\pi cos(\\pi x) cos(\\pi y) \\begin{pmatrix} -u_1 \\\\ u_2 \\end{pmatrix} + \\pi sin(\\pi x) sin(\\pi y) \\begin{pmatrix} u_2 \\\\ -u_1 \\end{pmatrix}\n",
    "$$"
   ]
  },
  {
   "cell_type": "markdown",
   "metadata": {},
   "source": [
    "$$\n",
    "\\nabla p = \\exp(\\pi y) \\begin{pmatrix} 1 \\\\\\pi x \\end{pmatrix}\n",
    "$$"
   ]
  },
  {
   "cell_type": "markdown",
   "metadata": {},
   "source": [
    "therefore"
   ]
  },
  {
   "cell_type": "markdown",
   "metadata": {},
   "source": [
    "$$\n",
    "f = 2 \\nu \\pi^2 \\begin{pmatrix} u_1 \\\\ u_2 \\end{pmatrix} + \\pi cos(\\pi x) cos(\\pi y) \\begin{pmatrix} -u_1 \\\\ u_2 \\end{pmatrix} + \\pi sin(\\pi x) sin(\\pi y) \\begin{pmatrix} u_2 \\\\ -u_1 \\end{pmatrix} + \\exp(\\pi y) \\begin{pmatrix} 1 \\\\\\pi x \\end{pmatrix}\n",
    "$$"
   ]
  },
  {
   "cell_type": "code",
   "execution_count": 1,
   "metadata": {},
   "outputs": [],
   "source": [
    "import numpy as np\n",
    "import torch\n",
    "import scipy\n",
    "import sympy as sp\n",
    "import time\n",
    "\n",
    "import sys\n",
    "sys.path.insert(1, 'C:/Users/philh/Notebooks/jmp_solver/')\n",
    "from sobolev import Sobolev\n",
    "from solver import Solver\n",
    "from utils import matmul, cart, newton\n",
    "from diffeomorphism import hyper_rect\n",
    "import surrogates"
   ]
  },
  {
   "cell_type": "code",
   "execution_count": 2,
   "metadata": {},
   "outputs": [],
   "source": [
    "device = torch.device('cuda' if torch.cuda.is_available() else 'cpu')\n",
    "torch.set_default_dtype(torch.float64)"
   ]
  },
  {
   "cell_type": "markdown",
   "metadata": {},
   "source": [
    "### Sobolev Cubature"
   ]
  },
  {
   "cell_type": "code",
   "execution_count": 38,
   "metadata": {},
   "outputs": [],
   "source": [
    "deg_2d= [20]*2\n",
    "deg_1d = [20]\n",
    "\n",
    "ints = np.array([[-1.0, 1.0]]*2)\n",
    "diffeo = hyper_rect(*ints)\n",
    "phi, _ = diffeo\n",
    "\n",
    "sob_2d = Sobolev(deg=deg_2d, diffeo=diffeo, quad=\"leglob\")\n",
    "sob_1d_0 = Sobolev(deg=deg_1d)\n",
    "sob_1d_1 = Sobolev(deg=deg_1d)\n",
    "\n",
    "dx, dy = torch.tensor(sob_2d.diff.nabla)\n",
    "diffs = np.array([[2,0], [0,2]])\n",
    "dx2, dy2 = torch.tensor(sob_2d.diff.diffs(diffs))"
   ]
  },
  {
   "cell_type": "markdown",
   "metadata": {},
   "source": [
    "### Surrogate Models"
   ]
  },
  {
   "cell_type": "code",
   "execution_count": 39,
   "metadata": {},
   "outputs": [
    {
     "name": "stdout",
     "output_type": "stream",
     "text": [
      "params p : 441\n"
     ]
    }
   ],
   "source": [
    "model_p = surrogates.ChebPoly(n=deg_2d, p=np.inf, dim=2)\n",
    "model_nu = surrogates.Scalar()\n",
    "print(f'params p : {model_p.get_deg()}')"
   ]
  },
  {
   "cell_type": "markdown",
   "metadata": {},
   "source": [
    "### TESTS"
   ]
  },
  {
   "cell_type": "code",
   "execution_count": 40,
   "metadata": {},
   "outputs": [],
   "source": [
    "# {nu = 0.05}\n",
    "# {nu = 1.0}"
   ]
  },
  {
   "cell_type": "markdown",
   "metadata": {},
   "source": [
    "### Data"
   ]
  },
  {
   "cell_type": "code",
   "execution_count": 41,
   "metadata": {},
   "outputs": [],
   "source": [
    "nu = 0.05\n",
    "\n",
    "def u1(x, y):\n",
    "    return -np.sin(np.pi*x)*np.cos(np.pi*y)\n",
    "\n",
    "def u2(x, y):\n",
    "    return np.cos(np.pi*x)*np.sin(np.pi*y)\n",
    "\n",
    "def p(x, y):\n",
    "    return x*np.exp(np.pi*y)\n",
    "\n",
    "def term1(x, y):\n",
    "    return np.pi*np.cos(np.pi*x)*np.cos(np.pi*y)\n",
    "\n",
    "def term2(x, y):\n",
    "    return np.pi*np.sin(np.pi*x)*np.sin(np.pi*y)\n",
    "\n",
    "def f1(x, y):\n",
    "    return (2*nu*np.pi**2-term1(x,y))*u1(x, y)+\\\n",
    "            term2(x, y)*u2(x, y)+\\\n",
    "            np.exp(np.pi*y)\n",
    "            \n",
    "def f2(x, y):\n",
    "    return (2*nu*np.pi**2+term1(x,y))*u2(x, y)-\\\n",
    "            term2(x, y)*u1(x, y)+\\\n",
    "            np.exp(np.pi*y)*np.pi*x"
   ]
  },
  {
   "cell_type": "markdown",
   "metadata": {},
   "source": [
    "### Sobolev Order"
   ]
  },
  {
   "cell_type": "code",
   "execution_count": 73,
   "metadata": {},
   "outputs": [],
   "source": [
    "sob_2d.set_s(-3/4)"
   ]
  },
  {
   "cell_type": "markdown",
   "metadata": {},
   "source": [
    "### Sobolev Metric"
   ]
  },
  {
   "cell_type": "code",
   "execution_count": 74,
   "metadata": {},
   "outputs": [],
   "source": [
    "# |--------------------------------------------|\n",
    "# |  Operator  |          Formulation          |  \n",
    "# |------------|-------------------------------|\n",
    "# | id         |  L2 grad of L2                | \n",
    "# | m_inv      |  L2 grad of Sob               |\n",
    "# | weak m_inv |  L2 grad of weak Sob          |\n",
    "# | m          |  L2 grad of negative Sob      |\n",
    "# | weak m     |  L2 grad of weak negative Sob |\n",
    "# |--------------------------------------------|\n",
    "#\n",
    "# -> sob.metric(rev=False/True, weak=False/True)"
   ]
  },
  {
   "cell_type": "code",
   "execution_count": 75,
   "metadata": {},
   "outputs": [],
   "source": [
    "metric_2d = sob_2d.metric(weak=True)\n",
    "metric_1d_0 = sob_1d_0.l2_metric()\n",
    "metric_1d_1 = sob_1d_1.l2_metric()"
   ]
  },
  {
   "cell_type": "markdown",
   "metadata": {},
   "source": [
    "### Gradient Flow :-: Model Input"
   ]
  },
  {
   "cell_type": "code",
   "execution_count": 76,
   "metadata": {},
   "outputs": [],
   "source": [
    "grid = sob_2d.leja_grid\n",
    "xs = sob_2d.leja_axes\n",
    "dmn = model_p.data_axes(xs).T"
   ]
  },
  {
   "cell_type": "markdown",
   "metadata": {},
   "source": [
    "### Gradient Flow :-: Data Input"
   ]
  },
  {
   "cell_type": "code",
   "execution_count": 77,
   "metadata": {},
   "outputs": [],
   "source": [
    "f_1 = torch.tensor(f1(grid[:,0], grid[:,1]))\n",
    "f_2 = torch.tensor(f2(grid[:,0], grid[:,1]))"
   ]
  },
  {
   "cell_type": "markdown",
   "metadata": {},
   "source": [
    "### PDE :-: Operators"
   ]
  },
  {
   "cell_type": "code",
   "execution_count": 78,
   "metadata": {},
   "outputs": [],
   "source": [
    "lam = 1/nu\n",
    "Delta = dx2+dy2 \n",
    "u1_e = torch.tensor(u1(grid[:,0], grid[:,1]))\n",
    "u2_e = torch.tensor(u2(grid[:,0], grid[:,1]))"
   ]
  },
  {
   "cell_type": "markdown",
   "metadata": {},
   "source": [
    "### Gradient Flow :-: Formulation"
   ]
  },
  {
   "cell_type": "code",
   "execution_count": 79,
   "metadata": {},
   "outputs": [],
   "source": [
    "eq1 = lambda p, nu: -nu*matmul(Delta, u1_e)+(u1_e*matmul(dx, u1_e)+u2_e*matmul(dy, u1_e))+matmul(dx, p)-f_1\n",
    "eq2 = lambda p, nu: -nu*matmul(Delta, u2_e)+(u1_e*matmul(dx, u2_e)+u2_e*matmul(dy, u2_e))+matmul(dy, p)-f_2\n",
    "\n",
    "crit_dmn_0 = lambda p, nu: sob_2d.loss(eq1(p, nu), weak=True)+sob_2d.loss(eq2(p, nu), weak=True)\n",
    "crit_dmn_1 = lambda p, nu: (sob_2d.integral(p))**2\n",
    "\n",
    "eq1_dth = matmul(dmn.T, dx.T)\n",
    "eq2_dth = matmul(dmn.T, dy.T)\n",
    "\n",
    "eq1_dnu = -matmul(Delta, u1_e).T\n",
    "eq2_dnu = -matmul(Delta, u2_e).T\n",
    "\n",
    "crit_grad_0 = lambda th, nu: torch.cat((\n",
    "    2*matmul(eq1_dth, metric_2d(eq1(matmul(dmn, th), nu)))+\\\n",
    "    2*matmul(eq2_dth, metric_2d(eq2(matmul(dmn, th), nu)))+\\\n",
    "    2*sob_2d.integral(matmul(dmn, th))*matmul(dmn.T, metric_2d(torch.ones_like(th))),\n",
    "    \n",
    "    torch.tensor([2*matmul(eq1_dnu, metric_2d(eq1(matmul(dmn, th), nu)))+\\\n",
    "                  2*matmul(eq2_dnu, metric_2d(eq2(matmul(dmn, th), nu)))])\n",
    "))"
   ]
  },
  {
   "cell_type": "markdown",
   "metadata": {},
   "source": [
    "### Truncation Error"
   ]
  },
  {
   "cell_type": "code",
   "execution_count": 80,
   "metadata": {},
   "outputs": [],
   "source": [
    "func = [\"crit_dmn_\", \"crit_grad_\"]\n",
    "args = [\n",
    "    torch.tensor(p(grid[:,0], grid[:,1])),\n",
    "    1.0\n",
    "]\n",
    "i=0\n",
    "for _ in func:\n",
    "    while _+str(i) in locals():\n",
    "        #print(f'{_+str(i)}: {locals()[_+str(i)](*args)}')\n",
    "        i+=1\n",
    "    i=0"
   ]
  },
  {
   "cell_type": "markdown",
   "metadata": {},
   "source": [
    "### Solver"
   ]
  },
  {
   "cell_type": "code",
   "execution_count": 81,
   "metadata": {},
   "outputs": [],
   "source": [
    "lin = np.linspace(-1.0, 1.0, 249)\n",
    "test_xs = [lin, lin]\n",
    "data = model_p.data_axes(test_xs).T\n",
    "\n",
    "models = [model_p, model_nu]\n",
    "dmns = [dmn, dmn]\n",
    "crits = [crit_dmn_0, crit_dmn_1]\n",
    "\n",
    "solver = Solver(\n",
    "    dmns = dmns, \n",
    "    crits = crits,\n",
    "    model = models,\n",
    "    test_axes = test_xs,\n",
    "    gt = p,\n",
    "    data = data)"
   ]
  },
  {
   "cell_type": "markdown",
   "metadata": {},
   "source": [
    "### Resolution"
   ]
  },
  {
   "cell_type": "code",
   "execution_count": 82,
   "metadata": {},
   "outputs": [],
   "source": [
    "grid_plt = sob_2d.grid\n",
    "xs_plt = sob_2d.axes\n",
    "x_plt = grid_plt[:,0]\n",
    "y_plt = grid_plt[:,1]\n",
    "gt_plt = p(x_plt, y_plt).reshape(len(xs_plt[1]), len(xs_plt[0]))\n",
    "fn = None #\"resolution_nse\"\n",
    "\n",
    "#solver.plot2d(gt_plt, xs_plt[0], xs_plt[1], title=\"Resolution of Ground Truth\", file_name=fn)"
   ]
  },
  {
   "cell_type": "markdown",
   "metadata": {},
   "source": [
    "### Reset"
   ]
  },
  {
   "cell_type": "code",
   "execution_count": 83,
   "metadata": {},
   "outputs": [],
   "source": [
    "model_nu.set_weights_val(0.5)\n",
    "model_p.set_weights_val(0.0)"
   ]
  },
  {
   "cell_type": "markdown",
   "metadata": {},
   "source": [
    "### Remark\n",
    "You can either decide for the analytic solution or for the iterative solution."
   ]
  },
  {
   "cell_type": "markdown",
   "metadata": {},
   "source": [
    "### Gradient Flow :-: Analytic Solution"
   ]
  },
  {
   "cell_type": "code",
   "execution_count": 84,
   "metadata": {},
   "outputs": [
    {
     "name": "stdout",
     "output_type": "stream",
     "text": [
      "The problem is not linear. Please do not use the linear mode!\n",
      "time consumption: 3.09s\n"
     ]
    }
   ],
   "source": [
    "start = time.time()\n",
    "_, w = newton(models, crits, dmns, lin=True)\n",
    "model_p.set_weights(w[0])\n",
    "model_nu.set_weights(w[1])\n",
    "end = time.time()\n",
    "print('time consumption: %.2fs' % (end-start))"
   ]
  },
  {
   "cell_type": "markdown",
   "metadata": {},
   "source": [
    "### Gradient Flow :-: Iterative Solution"
   ]
  },
  {
   "cell_type": "code",
   "execution_count": 85,
   "metadata": {
    "scrolled": true
   },
   "outputs": [
    {
     "name": "stdout",
     "output_type": "stream",
     "text": [
      "time consumption: 0.00s\n"
     ]
    }
   ],
   "source": [
    "params = list(model_p.parameters())+list(model_nu.parameters())\n",
    "optimizer = torch.optim.LBFGS(\n",
    "    params,\n",
    "    lr=1.0, \n",
    "    max_iter=1, \n",
    "    max_eval=None, \n",
    "    tolerance_grad=1e-18, \n",
    "    tolerance_change=1e-20, \n",
    "    history_size=1, \n",
    "    line_search_fn=None)\n",
    "\n",
    "#solver.train(30000, 3000, optim=optimizer)\n",
    "print('time consumption: %.2fs' % solver.get_time())"
   ]
  },
  {
   "cell_type": "markdown",
   "metadata": {},
   "source": [
    "### Evaluation"
   ]
  },
  {
   "cell_type": "code",
   "execution_count": 86,
   "metadata": {},
   "outputs": [],
   "source": [
    "_, _ = solver.eval()"
   ]
  },
  {
   "cell_type": "markdown",
   "metadata": {},
   "source": [
    "### Plots"
   ]
  },
  {
   "cell_type": "code",
   "execution_count": 56,
   "metadata": {},
   "outputs": [
    {
     "data": {
      "image/png": "[encoded data removed]",
      "text/plain": [
       "<Figure size 1107.7x630 with 2 Axes>"
      ]
     },
     "metadata": {
      "needs_background": "light"
     },
     "output_type": "display_data"
    },
    {
     "data": {
      "image/png": "[encoded data removed]",
      "text/plain": [
       "<Figure size 1107.7x630 with 2 Axes>"
      ]
     },
     "metadata": {
      "needs_background": "light"
     },
     "output_type": "display_data"
    }
   ],
   "source": [
    "suffix = None#\"poisson2d\"\n",
    "solver.plot_model(suffix=suffix)\n",
    "#solver.plot_gt(suffix=suffix)\n",
    "#solver.plot_abs_err(suffix=suffix)\n",
    "#solver.plot_losses(lower=0, upper=-1)"
   ]
  },
  {
   "cell_type": "markdown",
   "metadata": {},
   "source": [
    "### Errors"
   ]
  },
  {
   "cell_type": "code",
   "execution_count": 20,
   "metadata": {},
   "outputs": [
    {
     "name": "stdout",
     "output_type": "stream",
     "text": [
      "L1  Error: [2.6313653139173213e-14]\n",
      "L2  Error: [1.2878821624670717e-13]\n",
      "Max Error: [1.2071538213476174e-11]\n",
      "[2.91433544e-16]\n"
     ]
    }
   ],
   "source": [
    "# [p] -1\n",
    "print(f'L1  Error: {solver.lp_err(1)}')\n",
    "print(f'L2  Error: {solver.lp_err(2)}')\n",
    "print(f'Max Error: {solver.lp_err(np.inf)}')\n",
    "\n",
    "# nu\n",
    "print(np.abs(model_nu.fc.weight[0].detach().numpy()-nu))"
   ]
  },
  {
   "cell_type": "code",
   "execution_count": 21,
   "metadata": {},
   "outputs": [
    {
     "name": "stdout",
     "output_type": "stream",
     "text": [
      "L1  Error: [2.2226233114930382e-14]\n",
      "L2  Error: [3.84280521360955e-14]\n",
      "Max Error: [8.02254096488042e-13]\n",
      "[1.16573418e-15]\n"
     ]
    }
   ],
   "source": [
    "# [p] -1/2\n",
    "print(f'L1  Error: {solver.lp_err(1)}')\n",
    "print(f'L2  Error: {solver.lp_err(2)}')\n",
    "print(f'Max Error: {solver.lp_err(np.inf)}')\n",
    "\n",
    "# nu\n",
    "print(np.abs(model_nu.fc.weight[0].detach().numpy()-nu))"
   ]
  },
  {
   "cell_type": "code",
   "execution_count": 37,
   "metadata": {},
   "outputs": [
    {
     "name": "stdout",
     "output_type": "stream",
     "text": [
      "L1  Error: [1.7037464403351363e-14]\n",
      "L2  Error: [3.2317100581204505e-14]\n",
      "Max Error: [2.090147499522743e-12]\n",
      "[5.689893e-16]\n"
     ]
    }
   ],
   "source": [
    "# [p] - 2/3\n",
    "print(f'L1  Error: {solver.lp_err(1)}')\n",
    "print(f'L2  Error: {solver.lp_err(2)}')\n",
    "print(f'Max Error: {solver.lp_err(np.inf)}')\n",
    "\n",
    "# nu\n",
    "print(np.abs(model_nu.fc.weight[0].detach().numpy()-nu))"
   ]
  },
  {
   "cell_type": "code",
   "execution_count": 57,
   "metadata": {},
   "outputs": [
    {
     "name": "stdout",
     "output_type": "stream",
     "text": [
      "L1  Error: [3.0008099024412346e-14]\n",
      "L2  Error: [4.4186925582705e-14]\n",
      "Max Error: [1.652011860642233e-12]\n",
      "[6.24500451e-17]\n"
     ]
    }
   ],
   "source": [
    "# [p] - 2/3, lob\n",
    "print(f'L1  Error: {solver.lp_err(1)}')\n",
    "print(f'L2  Error: {solver.lp_err(2)}')\n",
    "print(f'Max Error: {solver.lp_err(np.inf)}')\n",
    "\n",
    "# nu\n",
    "print(np.abs(model_nu.fc.weight[0].detach().numpy()-nu))"
   ]
  },
  {
   "cell_type": "code",
   "execution_count": 72,
   "metadata": {},
   "outputs": [
    {
     "name": "stdout",
     "output_type": "stream",
     "text": [
      "L1  Error: [7.48078706612278e-14]\n",
      "L2  Error: [1.0812721000064126e-13]\n",
      "Max Error: [6.394884621840902e-13]\n",
      "[4.92661467e-16]\n"
     ]
    }
   ],
   "source": [
    "# [p] - 1/3, lob\n",
    "print(f'L1  Error: {solver.lp_err(1)}')\n",
    "print(f'L2  Error: {solver.lp_err(2)}')\n",
    "print(f'Max Error: {solver.lp_err(np.inf)}')\n",
    "\n",
    "# nu\n",
    "print(np.abs(model_nu.fc.weight[0].detach().numpy()-nu))"
   ]
  },
  {
   "cell_type": "code",
   "execution_count": 87,
   "metadata": {},
   "outputs": [
    {
     "name": "stdout",
     "output_type": "stream",
     "text": [
      "L1  Error: [2.889591865658428e-14]\n",
      "L2  Error: [4.9031239606145736e-14]\n",
      "Max Error: [2.199060378238471e-12]\n",
      "[1.05471187e-15]\n"
     ]
    }
   ],
   "source": [
    "# [p] - 3/4, lob\n",
    "print(f'L1  Error: {solver.lp_err(1)}')\n",
    "print(f'L2  Error: {solver.lp_err(2)}')\n",
    "print(f'Max Error: {solver.lp_err(np.inf)}')\n",
    "\n",
    "# nu\n",
    "print(np.abs(model_nu.fc.weight[0].detach().numpy()-nu))"
   ]
  },
  {
   "cell_type": "code",
   "execution_count": null,
   "metadata": {},
   "outputs": [],
   "source": []
  }
 ],
 "metadata": {
  "kernelspec": {
   "display_name": "Python 3 (ipykernel)",
   "language": "python",
   "name": "python3"
  },
  "language_info": {
   "codemirror_mode": {
    "name": "ipython",
    "version": 3
   },
   "file_extension": ".py",
   "mimetype": "text/x-python",
   "name": "python",
   "nbconvert_exporter": "python",
   "pygments_lexer": "ipython3",
   "version": "3.10.4"
  }
 },
 "nbformat": 4,
 "nbformat_minor": 4
}
