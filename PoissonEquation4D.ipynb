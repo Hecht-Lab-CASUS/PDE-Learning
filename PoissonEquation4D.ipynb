{
 "cells": [
  {
   "cell_type": "markdown",
   "metadata": {},
   "source": [
    "### 4D Poisson Equation\n",
    "Let $\\Omega = (-1 , 1)^4, \\omega \\in \\mathbb{R}$:\n",
    "\n",
    "$$\n",
    "\\begin{cases}\n",
    "    \\Delta u + f = 0, (w,x,y,z) \\in \\Omega\\\\\n",
    "    u = g, (w,x,y,z) \\in \\partial \\Omega\n",
    "\\end{cases}\n",
    "$$"
   ]
  },
  {
   "cell_type": "markdown",
   "metadata": {},
   "source": [
    "with:\n",
    "$$\n",
    "    f(x,y) =  -4 \\omega^2 g\\\\\n",
    "$$"
   ]
  },
  {
   "cell_type": "markdown",
   "metadata": {},
   "source": [
    "### Ground Truth\n",
    "$$\n",
    "g(x,y) = \\sin(\\omega w) \\cos(\\omega x) \\sin(\\omega y) \\cos(\\omega z)\n",
    "$$"
   ]
  },
  {
   "cell_type": "code",
   "execution_count": 2,
   "metadata": {},
   "outputs": [],
   "source": [
    "import numpy as np\n",
    "import torch\n",
    "import scipy\n",
    "import time\n",
    "import sys\n",
    "sys.path.insert(1, './PSM_V2')\n",
    "from sobolev import Sobolev\n",
    "from solver import Solver\n",
    "from utils import matmul, cart\n",
    "from diffeomorphism import hyper_rect\n",
    "import surrogates"
   ]
  },
  {
   "cell_type": "code",
   "execution_count": 3,
   "metadata": {},
   "outputs": [],
   "source": [
    "device = torch.device('cuda' if torch.cuda.is_available() else 'cpu')\n",
    "torch.set_default_dtype(torch.float64)"
   ]
  },
  {
   "cell_type": "markdown",
   "metadata": {},
   "source": [
    "### Sobolev Cubature"
   ]
  },
  {
   "cell_type": "code",
   "execution_count": 31,
   "metadata": {},
   "outputs": [],
   "source": [
    "deg_4d = [8,8,8,8]\n",
    "deg_3d = [8]*3\n",
    "\n",
    "ints = np.array([[-1.0, 1.0]]*4)\n",
    "diffeo = hyper_rect(*ints)\n",
    "phi, _ = diffeo\n",
    "\n",
    "sob_4d = Sobolev(deg=deg_4d)\n",
    "sob_3d = Sobolev(deg=deg_3d)\n",
    "\n",
    "diffs = np.array([[2,0,0,0], [0,2,0,0], [0,0,2,0],[0,0,0,2]])"
   ]
  },
  {
   "cell_type": "code",
   "execution_count": 32,
   "metadata": {},
   "outputs": [],
   "source": [
    "dw2, dx2, dy2, dz2 = torch.tensor(sob_4d.diff.diffs(diffs))"
   ]
  },
  {
   "cell_type": "markdown",
   "metadata": {},
   "source": [
    "### Surrogate Model"
   ]
  },
  {
   "cell_type": "code",
   "execution_count": 33,
   "metadata": {},
   "outputs": [
    {
     "name": "stdout",
     "output_type": "stream",
     "text": [
      "params: 1867\n"
     ]
    }
   ],
   "source": [
    "model = surrogates.ChebPoly(n=deg_4d, p=2, dim=4)\n",
    "print(f'params: {model.get_deg()}')"
   ]
  },
  {
   "cell_type": "markdown",
   "metadata": {},
   "source": [
    "### Tests"
   ]
  },
  {
   "cell_type": "code",
   "execution_count": 34,
   "metadata": {},
   "outputs": [],
   "source": [
    "# {omega = 1.0}"
   ]
  },
  {
   "cell_type": "markdown",
   "metadata": {},
   "source": [
    "### Data"
   ]
  },
  {
   "cell_type": "code",
   "execution_count": 35,
   "metadata": {},
   "outputs": [],
   "source": [
    "omega = 1.0\n",
    "\n",
    "def gt(w,x,y,z):\n",
    "    v = phi([w,x,y,z])\n",
    "    return np.cos(omega*v[0])*np.sin(omega*v[1])*np.cos(omega*v[2])*np.sin(omega*v[3])\n",
    "\n",
    "def f(w,x,y,z):\n",
    "    return 4*omega**2*gt(w,x,y,z)"
   ]
  },
  {
   "cell_type": "markdown",
   "metadata": {},
   "source": [
    "### Sobolev Order"
   ]
  },
  {
   "cell_type": "code",
   "execution_count": 36,
   "metadata": {},
   "outputs": [],
   "source": [
    "sob_4d.set_s(-1)"
   ]
  },
  {
   "cell_type": "markdown",
   "metadata": {},
   "source": [
    "### Sobolev Metric"
   ]
  },
  {
   "cell_type": "code",
   "execution_count": 37,
   "metadata": {},
   "outputs": [],
   "source": [
    "# |--------------------------------------------|\n",
    "# |  Operator  |          Formulation          |  \n",
    "# |------------|-------------------------------|\n",
    "# | id         |  L2 grad of L2                | \n",
    "# | m_inv      |  L2 grad of Sob               |\n",
    "# | weak m_inv |  L2 grad of weak Sob          |\n",
    "# | m          |  L2 grad of negative Sob      |\n",
    "# | weak m     |  L2 grad of weak negative Sob |\n",
    "# |--------------------------------------------|\n",
    "#\n",
    "# -> sob.metric(rev=False/True, weak=False/True)"
   ]
  },
  {
   "cell_type": "code",
   "execution_count": 38,
   "metadata": {},
   "outputs": [],
   "source": [
    "metric_4d = sob_4d.metric(weak=True)\n",
    "metric_3d = sob_3d.l2_metric()"
   ]
  },
  {
   "cell_type": "markdown",
   "metadata": {},
   "source": [
    "### Gradient Flow :-: Model Input"
   ]
  },
  {
   "cell_type": "code",
   "execution_count": 39,
   "metadata": {},
   "outputs": [
    {
     "name": "stderr",
     "output_type": "stream",
     "text": [
      "/tmp/ipykernel_29630/203345870.py:9: VisibleDeprecationWarning: Creating an ndarray from ragged nested sequences (which is a list-or-tuple of lists-or-tuples-or ndarrays with different lengths or shapes) is deprecated. If you meant to do this, you must specify 'dtype=object' when creating the ndarray.\n",
      "  bndr_prot = np.array([bndr, *xs_bndr])\n"
     ]
    }
   ],
   "source": [
    "grid = sob_4d.leja_grid\n",
    "xs = sob_4d.leja_axes\n",
    "\n",
    "bndr = np.array([-1.0, 1.0])\n",
    "xs_bndr = sob_3d.leja_axes\n",
    "\n",
    "dmn = model.data_axes(xs).T\n",
    "\n",
    "bndr_prot = np.array([bndr, *xs_bndr])\n",
    "\n",
    "bndr = model.data_axes(bndr_prot).T\n",
    "for i in range(1, 4):\n",
    "    bndr = torch.cat((model.data_axes(np.roll(bndr_prot, i)).T, bndr))"
   ]
  },
  {
   "cell_type": "markdown",
   "metadata": {},
   "source": [
    "### Gradient Flow :-: Data Input"
   ]
  },
  {
   "cell_type": "code",
   "execution_count": 40,
   "metadata": {},
   "outputs": [],
   "source": [
    "grid_bndr = cart(bndr_prot)\n",
    "for i in range(1, 4):\n",
    "    grid_bndr = np.concatenate((cart(np.roll(bndr_prot, i)), grid_bndr))\n",
    "\n",
    "u_bndr = torch.tensor(gt(\n",
    "    grid_bndr[:,0], grid_bndr[:,1], grid_bndr[:,2], grid_bndr[:,3], \n",
    "))\n",
    "\n",
    "fWXYZ = torch.tensor(f(grid[:,0], grid[:,1], grid[:,2], grid[:,3]))"
   ]
  },
  {
   "cell_type": "markdown",
   "metadata": {},
   "source": [
    "### PDE :-: Operators"
   ]
  },
  {
   "cell_type": "code",
   "execution_count": 41,
   "metadata": {},
   "outputs": [],
   "source": [
    "K = dw2+dx2+dy2+dz2"
   ]
  },
  {
   "cell_type": "markdown",
   "metadata": {},
   "source": [
    "### Gradient Flow :-: Formulation"
   ]
  },
  {
   "cell_type": "code",
   "execution_count": 42,
   "metadata": {},
   "outputs": [],
   "source": [
    "eq = lambda u: matmul(K, u)+fWXYZ\n",
    "crit_dmn = lambda u: sob_4d.loss(eq(u), weak=True)\n",
    "crit_bndr = lambda u: sob_3d.l2_loss(u-u_bndr)\n",
    "grad_dmn = lambda u: 2*matmul(K.T, metric_4d(eq(u)))\n",
    "grad_bndr = lambda u: 2*metric_3d(u-u_bndr)"
   ]
  },
  {
   "cell_type": "markdown",
   "metadata": {},
   "source": [
    "### Truncation Error"
   ]
  },
  {
   "cell_type": "code",
   "execution_count": 43,
   "metadata": {},
   "outputs": [
    {
     "data": {
      "text/plain": [
       "tensor(1.5239e-13)"
      ]
     },
     "execution_count": 43,
     "metadata": {},
     "output_type": "execute_result"
    }
   ],
   "source": [
    "crit_dmn(torch.tensor(\n",
    "    gt(grid[:,0], grid[:,1], grid[:,2], grid[:,3])\n",
    "))"
   ]
  },
  {
   "cell_type": "markdown",
   "metadata": {},
   "source": [
    "### Solver"
   ]
  },
  {
   "cell_type": "code",
   "execution_count": 44,
   "metadata": {},
   "outputs": [],
   "source": [
    "test_xs = [np.linspace(-1.0, 1.0, 20)]*4\n",
    "data = model.data_axes(test_xs).T\n",
    "\n",
    "solver = Solver(\n",
    "    dmns=[dmn, bndr],\n",
    "    crits=[crit_dmn, crit_bndr],\n",
    "    model=model,\n",
    "    test_axes=test_xs,\n",
    "    grads=[grad_dmn, grad_bndr],\n",
    "    gt=gt,\n",
    "    data=data)"
   ]
  },
  {
   "cell_type": "markdown",
   "metadata": {},
   "source": [
    "### Resolution"
   ]
  },
  {
   "cell_type": "code",
   "execution_count": 45,
   "metadata": {},
   "outputs": [],
   "source": [
    "grid_plt = sob_4d.grid\n",
    "xs_plt = sob_4d.axes\n",
    "w_plt = grid_plt[:,0]\n",
    "x_plt = grid_plt[:,1]\n",
    "y_plt = grid_plt[:,2]\n",
    "z_plt = grid_plt[:,3]\n",
    "gt_plt = gt(\n",
    "    w_plt, x_plt, y_plt, z_plt\n",
    ").reshape(len(xs_plt[3]),len(xs_plt[2]),len(xs_plt[1]),len(xs_plt[0]))\n",
    "fn = None #\"resolution_poisson_2d\"\n",
    "\n",
    "#solver.plot4d(gt_plt, xs_plt[0], xs_plt[1], title=\"Resolution of Ground Truth\", file_name=fn)"
   ]
  },
  {
   "cell_type": "markdown",
   "metadata": {},
   "source": [
    "### Remark\n",
    "You can either decide for the analytic solution or for the iterative solution."
   ]
  },
  {
   "cell_type": "markdown",
   "metadata": {},
   "source": [
    "### Gradient Flow :-: Analytic Solution AD-PSM"
   ]
  },
  {
   "cell_type": "code",
   "execution_count": 46,
   "metadata": {},
   "outputs": [
    {
     "name": "stdout",
     "output_type": "stream",
     "text": [
      "time consumption: 2.43s\n"
     ]
    }
   ],
   "source": [
    "start = time.time()\n",
    "KsK = 2*matmul(dmn.T, K.T, metric_4d(matmul(K, dmn)))\\\n",
    "        +2*matmul(bndr.T, metric_3d(bndr))\n",
    "\n",
    "Ksf = 2*matmul(dmn.T, K.T, metric_4d(-fWXYZ))\\\n",
    "        +2*matmul(bndr.T, metric_3d(u_bndr))\n",
    "\n",
    "w = matmul(KsK.inverse(), Ksf)\n",
    "model.set_weights(w)\n",
    "end = time.time()\n",
    "print('time consumption: %.2fs' % (end-start))"
   ]
  },
  {
   "cell_type": "markdown",
   "metadata": {},
   "source": [
    "## Errors AD-PSM"
   ]
  },
  {
   "cell_type": "code",
   "execution_count": 50,
   "metadata": {},
   "outputs": [],
   "source": [
    "_, _ = solver.eval()"
   ]
  },
  {
   "cell_type": "code",
   "execution_count": 51,
   "metadata": {},
   "outputs": [
    {
     "name": "stdout",
     "output_type": "stream",
     "text": [
      "L1  Error: 5.4172772194542376e-08\n",
      "L2  Error: 8.741464462050605e-08\n",
      "Max Error: 6.37169315975683e-07\n"
     ]
    }
   ],
   "source": [
    "print(f'L1  Error: {solver.lp_err(1)}')\n",
    "print(f'L2  Error: {solver.lp_err(2)}')\n",
    "print(f'Max Error: {solver.lp_err(np.inf)}')"
   ]
  },
  {
   "cell_type": "markdown",
   "metadata": {},
   "source": [
    "### Gradient Flow :-: Iterative Solution"
   ]
  },
  {
   "cell_type": "code",
   "execution_count": 52,
   "metadata": {},
   "outputs": [],
   "source": [
    "model.set_weights_val(0.0)"
   ]
  },
  {
   "cell_type": "code",
   "execution_count": 53,
   "metadata": {},
   "outputs": [
    {
     "name": "stdout",
     "output_type": "stream",
     "text": [
      "epoch 20: loss = 0.2318489257961869\n",
      "epoch 40: loss = 0.0107052822668528\n",
      "epoch 60: loss = 0.0009490983598119\n",
      "epoch 80: loss = 0.0002270859135860\n",
      "epoch 100: loss = 0.0000196032587589\n",
      "epoch 120: loss = 0.0000064368497951\n",
      "epoch 140: loss = 0.0000025047524065\n",
      "epoch 160: loss = 0.0000005463266355\n",
      "epoch 180: loss = 0.0000001379899735\n",
      "epoch 200: loss = 0.0000001244969927\n",
      "time consumption: 11.37s\n"
     ]
    }
   ],
   "source": [
    "params = model.parameters()\n",
    "optimizer = torch.optim.LBFGS(\n",
    "    params,\n",
    "    lr=1.0, \n",
    "    max_iter=1, \n",
    "    max_eval=None, \n",
    "    tolerance_grad=1e-18, \n",
    "    tolerance_change=1e-20, \n",
    "    history_size=1, \n",
    "    line_search_fn=None)\n",
    "solver.train(200, 20, optim=optimizer)\n",
    "print('time consumption: %.2fs' % solver.get_time())"
   ]
  },
  {
   "cell_type": "markdown",
   "metadata": {},
   "source": [
    "### Evaluate"
   ]
  },
  {
   "cell_type": "code",
   "execution_count": 54,
   "metadata": {},
   "outputs": [],
   "source": [
    "_, _ = solver.eval()"
   ]
  },
  {
   "cell_type": "markdown",
   "metadata": {},
   "source": [
    "### Plots"
   ]
  },
  {
   "cell_type": "code",
   "execution_count": 55,
   "metadata": {},
   "outputs": [],
   "source": [
    "suffix = None#\"poisson2d\"\n",
    "#solver.plot_model(suffix=suffix)\n",
    "#solver.plot_gt(suffix=suffix)\n",
    "#solver.plot_abs_err(suffix=suffix)\n",
    "#solver.plot_losses(lower=0, upper=-1)"
   ]
  },
  {
   "cell_type": "markdown",
   "metadata": {},
   "source": [
    "### Errors GF-PSM"
   ]
  },
  {
   "cell_type": "code",
   "execution_count": 57,
   "metadata": {},
   "outputs": [
    {
     "name": "stdout",
     "output_type": "stream",
     "text": [
      "L1  Error: 1.406531625406868e-05\n",
      "L2  Error: 3.580693815416279e-05\n",
      "Max Error: 0.0032409841233420333\n"
     ]
    }
   ],
   "source": [
    "print(f'L1  Error: {solver.lp_err(1)}')\n",
    "print(f'L2  Error: {solver.lp_err(2)}')\n",
    "print(f'Max Error: {solver.lp_err(np.inf)}')"
   ]
  },
  {
   "cell_type": "code",
   "execution_count": null,
   "metadata": {},
   "outputs": [],
   "source": []
  }
 ],
 "metadata": {
  "kernelspec": {
   "display_name": "Python 3 (ipykernel)",
   "language": "python",
   "name": "python3"
  },
  "language_info": {
   "codemirror_mode": {
    "name": "ipython",
    "version": 3
   },
   "file_extension": ".py",
   "mimetype": "text/x-python",
   "name": "python",
   "nbconvert_exporter": "python",
   "pygments_lexer": "ipython3",
   "version": "3.10.4"
  }
 },
 "nbformat": 4,
 "nbformat_minor": 4
}
